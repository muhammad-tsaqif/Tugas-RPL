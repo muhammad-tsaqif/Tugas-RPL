{
  "nbformat": 4,
  "nbformat_minor": 0,
  "metadata": {
    "colab": {
      "name": "TugasRPL_1301180227.ipynb",
      "provenance": [],
      "collapsed_sections": []
    },
    "kernelspec": {
      "name": "python3",
      "display_name": "Python 3"
    },
    "language_info": {
      "name": "python"
    }
  },
  "cells": [
    {
      "cell_type": "code",
      "metadata": {
        "id": "C_4dSi3hXR7s"
      },
      "source": [
        "def bangunsegitiga():\n",
        "  x = float(input(\"masukkan nilai a : \"))\n",
        "  y = float(input(\"masukkan nilai b : \"))\n",
        "  z = float(input(\"masukkan nilai c : \"))\n",
        "  \n",
        "  print(\"=====================\")\n",
        "  print(round(x))\n",
        "  print(round(y))\n",
        "  print(round(z))\n",
        "  a = round(x)\n",
        "  b = round(y)\n",
        "  c = round(z)\n",
        "\n",
        "  # bilangan harus positif\n",
        "  if(a<=0 or b<=0 or c<=0):\n",
        "    print(\"Jika ada yang negatif atau 0, tidak ada segitiga dapat dibangun\")\n",
        "  # Jika bilangan yang terbesar lebih besar atau sama dengan penjumlahan dua bilangan lainnya yang lebih kecil, tidak ada segitiga dapat dibangun\n",
        "  elif(a+b<=c or b+c<=a or a+c<=b):\n",
        "     print(\"sisi terbesar >= penjumlahan sisi terkecil, tidak ada segitiga yang bisa dibangun\")\n",
        "  # jika semua sisi sama panjang\n",
        "  elif (a==b and b==c):\n",
        "    print(\"Segitiga sama sisi\")\n",
        "  # Jika a=b atau b=c atau a=c (namun tidak sama dengan salah satu yang lain maka segitiga SAMA KAKI.\n",
        "  elif (a==b or a==c or b==c):\n",
        "    print(\"Segitiga sama kaki\")\n",
        "  # Jika kuadrat bilangan terbesar = penjumlahan dari kuadrat dua bilangan lainnya, maka SEGITIGA SIKU-SIKU\n",
        "  elif ((a**2 == (b**2 + c**2)) or (b**2 == (a**2 + c**2)) or (c**2 == (b**2 + a**2))):\n",
        "    print(\"segitiga siku-siku\")\n",
        "  else :\n",
        "    print(\"segitiga bebas\")\n"
      ],
      "execution_count": 117,
      "outputs": []
    },
    {
      "cell_type": "code",
      "metadata": {
        "colab": {
          "base_uri": "https://localhost:8080/"
        },
        "id": "zba1fi0paBLE",
        "outputId": "99a5a59d-66bf-4d4e-e37e-804a55f95045"
      },
      "source": [
        "bangunsegitiga()"
      ],
      "execution_count": 126,
      "outputs": [
        {
          "output_type": "stream",
          "text": [
            "masukkan nilai a : 12\n",
            "masukkan nilai b : 12\n",
            "masukkan nilai c : 10\n",
            "=====================\n",
            "12\n",
            "12\n",
            "10\n",
            "Segitiga sama kaki\n"
          ],
          "name": "stdout"
        }
      ]
    }
  ]
}